{
 "cells": [
  {
   "cell_type": "code",
   "execution_count": 1,
   "metadata": {},
   "outputs": [],
   "source": [
    "wish = \"hi\""
   ]
  },
  {
   "cell_type": "code",
   "execution_count": 2,
   "metadata": {},
   "outputs": [
    {
     "data": {
      "text/plain": [
       "True"
      ]
     },
     "execution_count": 2,
     "metadata": {},
     "output_type": "execute_result"
    }
   ],
   "source": [
    "wish == 'hi'"
   ]
  },
  {
   "cell_type": "markdown",
   "metadata": {},
   "source": [
    "#### The if statement"
   ]
  },
  {
   "cell_type": "code",
   "execution_count": 3,
   "metadata": {},
   "outputs": [
    {
     "data": {
      "text/plain": [
       "False"
      ]
     },
     "execution_count": 3,
     "metadata": {},
     "output_type": "execute_result"
    }
   ],
   "source": [
    "wish == 'Hi' #since Python strings are case sensitive."
   ]
  },
  {
   "cell_type": "code",
   "execution_count": 4,
   "metadata": {},
   "outputs": [
    {
     "name": "stdout",
     "output_type": "stream",
     "text": [
      "good evening\n"
     ]
    }
   ],
   "source": [
    "if (wish == \"hi\"):\n",
    "    print(\"good evening\")"
   ]
  },
  {
   "cell_type": "code",
   "execution_count": 5,
   "metadata": {},
   "outputs": [],
   "source": [
    "if (wish == \"HI\"):\n",
    "    print(\"good Morning\")"
   ]
  },
  {
   "cell_type": "code",
   "execution_count": 6,
   "metadata": {},
   "outputs": [
    {
     "name": "stdout",
     "output_type": "stream",
     "text": [
      "multiple of 5\n"
     ]
    }
   ],
   "source": [
    "num = 100\n",
    "if (num % 5 == 0):\n",
    "    print(\"multiple of 5\")"
   ]
  },
  {
   "cell_type": "markdown",
   "metadata": {},
   "source": [
    "#### The if else statement"
   ]
  },
  {
   "cell_type": "code",
   "execution_count": 7,
   "metadata": {},
   "outputs": [
    {
     "name": "stdout",
     "output_type": "stream",
     "text": [
      "Not a multiple of 5\n"
     ]
    }
   ],
   "source": [
    "num = 24\n",
    "if (num % 5 == 0):\n",
    "    print(\"multiple of 5\")\n",
    "else:\n",
    "    print(\"Not a multiple of 5\")"
   ]
  },
  {
   "cell_type": "code",
   "execution_count": 8,
   "metadata": {},
   "outputs": [
    {
     "name": "stdout",
     "output_type": "stream",
     "text": [
      "unknown wish\n"
     ]
    }
   ],
   "source": [
    "wish = 'hiii'\n",
    "if(wish == 'hi'):\n",
    "    print(\"good morning\")\n",
    "else:\n",
    "    print(\"unknown wish\")"
   ]
  },
  {
   "cell_type": "markdown",
   "metadata": {},
   "source": [
    "#### Chained conditionals"
   ]
  },
  {
   "cell_type": "code",
   "execution_count": 9,
   "metadata": {},
   "outputs": [
    {
     "name": "stdout",
     "output_type": "stream",
     "text": [
      "multiple of 10\n"
     ]
    }
   ],
   "source": [
    "#check if a number is multiple of 10 or 5\n",
    "\n",
    "num = 70\n",
    "\n",
    "if (num % 10 == 0):\n",
    "    print(\"multiple of 10\")\n",
    "elif (num % 5 == 0):\n",
    "    print(\"multiple of 5\")\n",
    "else:\n",
    "    print(\"not a multiple of 5 and 10\")"
   ]
  },
  {
   "cell_type": "markdown",
   "metadata": {},
   "source": [
    "#### Nested if"
   ]
  },
  {
   "cell_type": "code",
   "execution_count": 10,
   "metadata": {},
   "outputs": [
    {
     "name": "stdout",
     "output_type": "stream",
     "text": [
      "True\n"
     ]
    }
   ],
   "source": [
    "#check if a number is a multiple of 3 and 2\n",
    "num = 24\n",
    "if(num %2 ==0):\n",
    "    if(num %3 ==0):\n",
    "        print(\"True\")"
   ]
  },
  {
   "cell_type": "code",
   "execution_count": 11,
   "metadata": {},
   "outputs": [
    {
     "name": "stdout",
     "output_type": "stream",
     "text": [
      "True\n"
     ]
    }
   ],
   "source": [
    "num = 12\n",
    "if(num %2 == 0 and num%3 == 0):  #and keyword can be used\n",
    "    print(\"True\")"
   ]
  },
  {
   "cell_type": "code",
   "execution_count": 12,
   "metadata": {},
   "outputs": [
    {
     "data": {
      "text/plain": [
       "2.0"
      ]
     },
     "execution_count": 12,
     "metadata": {},
     "output_type": "execute_result"
    }
   ],
   "source": [
    "num = 12\n",
    "if(num %2 ==0):\n",
    "    num = num/2\n",
    "if(num %3 ==0):\n",
    "    num = num/3\n",
    "num"
   ]
  },
  {
   "cell_type": "markdown",
   "metadata": {},
   "source": [
    "### Loops"
   ]
  },
  {
   "cell_type": "markdown",
   "metadata": {},
   "source": [
    "#### While Loop\n",
    "\n",
    "\n",
    "\n",
    "###### while condition is true:\n",
    "      Execution"
   ]
  },
  {
   "cell_type": "code",
   "execution_count": 13,
   "metadata": {},
   "outputs": [
    {
     "name": "stdout",
     "output_type": "stream",
     "text": [
      "1\n",
      "2\n",
      "3\n",
      "4\n",
      "5\n",
      "6\n",
      "7\n",
      "8\n",
      "9\n",
      "10\n"
     ]
    }
   ],
   "source": [
    "i = 1 \n",
    "while(i<=10):\n",
    "    print(i)\n",
    "    i+=1  #i = i+1"
   ]
  },
  {
   "cell_type": "code",
   "execution_count": 14,
   "metadata": {},
   "outputs": [
    {
     "name": "stdout",
     "output_type": "stream",
     "text": [
      "5\n",
      "10\n",
      "15\n",
      "20\n",
      "25\n",
      "30\n",
      "35\n",
      "40\n",
      "45\n",
      "50\n",
      "55\n",
      "60\n",
      "65\n",
      "70\n",
      "75\n",
      "80\n",
      "85\n",
      "90\n",
      "95\n",
      "100\n"
     ]
    }
   ],
   "source": [
    "i = 1\n",
    "while(i<=100):\n",
    "    if(i %5 ==0):\n",
    "        print(i)\n",
    "    i+=1"
   ]
  },
  {
   "cell_type": "markdown",
   "metadata": {},
   "source": [
    "#### Indendation is managed using 4spaces or 1 tab in python."
   ]
  },
  {
   "cell_type": "code",
   "execution_count": 15,
   "metadata": {},
   "outputs": [
    {
     "data": {
      "text/plain": [
       "24"
      ]
     },
     "execution_count": 15,
     "metadata": {},
     "output_type": "execute_result"
    }
   ],
   "source": [
    "num = 785\n",
    "numsum = 20 #5 + 8 + 7 = 20\n",
    "\n",
    "num = 5775\n",
    "numsum = 0\n",
    "while(num>0):\n",
    "    numsum += num%10\n",
    "    num = num//10\n",
    "numsum"
   ]
  },
  {
   "cell_type": "markdown",
   "metadata": {},
   "source": [
    "#### For Loop\n",
    "\n",
    "\n",
    "#####  for LOOP_VARIABLE in SEQUENCE:\n",
    "          STATEMENTS"
   ]
  },
  {
   "cell_type": "code",
   "execution_count": 16,
   "metadata": {},
   "outputs": [
    {
     "name": "stdout",
     "output_type": "stream",
     "text": [
      "1\n",
      "4\n",
      "27\n",
      "16\n",
      "125\n",
      "36\n",
      "343\n",
      "64\n",
      "729\n",
      "100\n"
     ]
    }
   ],
   "source": [
    "l1 = [1,2,3,4,5,6,7,8,9,10]\n",
    "\n",
    "for x in l1:\n",
    "    if(x%2 == 0):\n",
    "        print(x ** 2)\n",
    "    else:\n",
    "        print(x ** 3)"
   ]
  },
  {
   "cell_type": "code",
   "execution_count": 17,
   "metadata": {},
   "outputs": [
    {
     "name": "stdout",
     "output_type": "stream",
     "text": [
      "hi  Akshay\n",
      "hi  Arya\n",
      "hi  Bala\n"
     ]
    }
   ],
   "source": [
    "namelist = ['Akshay','Arya','Bala']\n",
    "for x in namelist:\n",
    "    print(\"hi \",x)"
   ]
  },
  {
   "cell_type": "markdown",
   "metadata": {},
   "source": [
    "### Range operator"
   ]
  },
  {
   "cell_type": "code",
   "execution_count": 18,
   "metadata": {},
   "outputs": [
    {
     "name": "stdout",
     "output_type": "stream",
     "text": [
      "0\n",
      "1\n",
      "2\n",
      "3\n",
      "4\n",
      "5\n",
      "6\n",
      "7\n",
      "8\n",
      "9\n"
     ]
    }
   ],
   "source": [
    "for x in range(0,10): ##parameters are starting point, ending point,step\n",
    "    print(x)"
   ]
  },
  {
   "cell_type": "code",
   "execution_count": 19,
   "metadata": {},
   "outputs": [
    {
     "name": "stdout",
     "output_type": "stream",
     "text": [
      "1\n",
      "3\n",
      "5\n",
      "7\n",
      "9\n"
     ]
    }
   ],
   "source": [
    "for x in range(1,10,2):\n",
    "    print(x)"
   ]
  },
  {
   "cell_type": "code",
   "execution_count": 20,
   "metadata": {},
   "outputs": [
    {
     "name": "stdout",
     "output_type": "stream",
     "text": [
      "1\n",
      "11\n",
      "21\n",
      "31\n",
      "41\n",
      "51\n",
      "61\n",
      "71\n",
      "81\n",
      "91\n"
     ]
    }
   ],
   "source": [
    "for x in range(1,100,10):\n",
    "    print(x)"
   ]
  },
  {
   "cell_type": "code",
   "execution_count": 21,
   "metadata": {},
   "outputs": [
    {
     "data": {
      "text/plain": [
       "[60, 120, 180, 240, 300, 360, 420, 480, 540, 600, 660, 720, 780, 840, 900, 960]"
      ]
     },
     "execution_count": 21,
     "metadata": {},
     "output_type": "execute_result"
    }
   ],
   "source": [
    "#calcualte all the numbers are divisible by 1,2,3,4,5,6 in 0-1000 and append those values into a list\n",
    "li = []\n",
    "for i in range(1,1001):\n",
    "    if(i % 4 == 0):\n",
    "        if(i % 5 == 0):\n",
    "            if(i % 6 == 0):\n",
    "                li.append(i)\n",
    "li"
   ]
  },
  {
   "cell_type": "code",
   "execution_count": 22,
   "metadata": {},
   "outputs": [
    {
     "data": {
      "text/plain": [
       "[60, 120, 180, 240, 300, 360, 420, 480, 540, 600, 660, 720, 780, 840, 900, 960]"
      ]
     },
     "execution_count": 22,
     "metadata": {},
     "output_type": "execute_result"
    }
   ],
   "source": [
    "#calcualte all the numbers are divisible by 1,2,3,4,5,6 in 0-1000 and append those values into a list\n",
    "li = []\n",
    "for i in range(1,1001):\n",
    "    if(i % 4 == 0 and i % 5 == 0 and i % 6 == 0):\n",
    "        li.append(i)\n",
    "li"
   ]
  },
  {
   "cell_type": "markdown",
   "metadata": {},
   "source": [
    "### Break and Continue\n",
    "\n",
    "The continue statement breaks one iteration (in the loop), if a specified condition occurs, and continues with the next iteration in the loop.\n",
    "\n",
    "Break will stop the execution of more code and case testing inside the block"
   ]
  },
  {
   "cell_type": "code",
   "execution_count": 26,
   "metadata": {},
   "outputs": [
    {
     "name": "stdout",
     "output_type": "stream",
     "text": [
      "1\n",
      "2\n",
      "3\n",
      "4\n",
      "6\n",
      "7\n",
      "8\n",
      "9\n",
      "11\n",
      "12\n",
      "13\n",
      "14\n",
      "16\n",
      "17\n",
      "18\n",
      "19\n"
     ]
    }
   ],
   "source": [
    "for i in range(1,20):\n",
    "    if(i %5 ==0):\n",
    "        continue #continue statement will skip remaining logic for the corresponding iteration, and next iteration will be normal\n",
    "    print(i)\n",
    "    \n",
    "    "
   ]
  },
  {
   "cell_type": "code",
   "execution_count": 27,
   "metadata": {},
   "outputs": [
    {
     "name": "stdout",
     "output_type": "stream",
     "text": [
      "1\n",
      "4\n",
      "9\n",
      "16\n",
      "25\n",
      "36\n",
      "49\n",
      "64\n",
      "81\n",
      "100\n"
     ]
    }
   ],
   "source": [
    "import math\n",
    "for i in range(1,101):\n",
    "    if(math.sqrt(i)%1!=0):\n",
    "        continue\n",
    "    print(i)\n",
    "    "
   ]
  },
  {
   "cell_type": "code",
   "execution_count": 32,
   "metadata": {},
   "outputs": [
    {
     "name": "stdout",
     "output_type": "stream",
     "text": [
      "1\n",
      "4\n",
      "9\n",
      "16\n",
      "25\n",
      "36\n",
      "49\n",
      "64\n",
      "81\n",
      "100\n"
     ]
    }
   ],
   "source": [
    "i = 0\n",
    "while(i<100):\n",
    "    i+=1\n",
    "    if(math.sqrt(i)%1 != 0): #true\n",
    "        continue \n",
    "    print(i)"
   ]
  },
  {
   "cell_type": "markdown",
   "metadata": {},
   "source": [
    "#### When i =1,\n",
    "\n",
    "while 1<100 is true\n",
    "\n",
    "if(math.sqrt(1)%1 != 0) is false\n",
    "\n",
    "print(1)\n",
    "\n",
    "i -> 2\n",
    "\n",
    "\n",
    "\n",
    "#### when i = 2\n",
    "\n",
    "while 2<100 is true\n",
    "\n",
    "if(math.sqrt(2)%1 != 0) is true\n",
    "\n",
    "continue\n",
    "\n",
    "\n",
    "#### i=2\n",
    "\n",
    "when i = 2\n",
    "\n",
    "while 2<100 is true\n",
    "\n",
    "if(math.sqrt(2)%1 != 0) is true\n",
    "\n",
    "continue\n",
    "\n",
    "\n",
    "#### i=2\n",
    "\n",
    "when i = 2\n",
    "\n",
    "while 2<100 is true\n",
    "\n",
    "if(math.sqrt(2)%1 != 0) is true\n",
    "\n",
    "continue\n",
    "\n",
    "\n"
   ]
  },
  {
   "cell_type": "code",
   "execution_count": 33,
   "metadata": {},
   "outputs": [
    {
     "name": "stdout",
     "output_type": "stream",
     "text": [
      "0\n",
      "1\n",
      "2\n",
      "3\n",
      "4\n",
      "5\n",
      "6\n",
      "7\n",
      "8\n",
      "9\n"
     ]
    }
   ],
   "source": [
    "for i in range(100):\n",
    "    if(i==10):\n",
    "        break\n",
    "    print(i)"
   ]
  },
  {
   "cell_type": "code",
   "execution_count": 35,
   "metadata": {},
   "outputs": [
    {
     "name": "stdout",
     "output_type": "stream",
     "text": [
      "1\n",
      "2\n",
      "3\n",
      "4\n",
      "5\n",
      "6\n",
      "7\n",
      "8\n",
      "9\n"
     ]
    }
   ],
   "source": [
    "i = 1\n",
    "while(i<100):\n",
    "    if(i==10):\n",
    "        break\n",
    "    print(i)\n",
    "    i+=1"
   ]
  },
  {
   "cell_type": "code",
   "execution_count": 57,
   "metadata": {},
   "outputs": [
    {
     "name": "stdout",
     "output_type": "stream",
     "text": [
      "False\n",
      "number of iteration: 49999999\n"
     ]
    }
   ],
   "source": [
    "#check for prime\n",
    "\n",
    "n = 100000000\n",
    "prime = True\n",
    "iteration = 0\n",
    "for i in range(2,(n//2)+1):\n",
    "    iteration+=1\n",
    "    if(n%i == 0):\n",
    "        prime = False\n",
    "print(prime)\n",
    "print(\"number of iteration:\",iteration)\n",
    "        "
   ]
  },
  {
   "cell_type": "code",
   "execution_count": 67,
   "metadata": {},
   "outputs": [
    {
     "name": "stdout",
     "output_type": "stream",
     "text": [
      "False\n",
      "number of iteration: 1\n"
     ]
    }
   ],
   "source": [
    "#check for prime\n",
    "\n",
    "n = 4\n",
    "prime = True\n",
    "iteration = 0\n",
    "for i in range(2,(n//2)+1):\n",
    "    iteration+=1\n",
    "    if(n%i == 0):\n",
    "        prime = False\n",
    "        break\n",
    "print(prime)\n",
    "print(\"number of iteration:\",iteration)\n",
    "        "
   ]
  },
  {
   "cell_type": "code",
   "execution_count": null,
   "metadata": {},
   "outputs": [],
   "source": []
  }
 ],
 "metadata": {
  "kernelspec": {
   "display_name": "Python 3",
   "language": "python",
   "name": "python3"
  },
  "language_info": {
   "codemirror_mode": {
    "name": "ipython",
    "version": 3
   },
   "file_extension": ".py",
   "mimetype": "text/x-python",
   "name": "python",
   "nbconvert_exporter": "python",
   "pygments_lexer": "ipython3",
   "version": "3.7.6"
  }
 },
 "nbformat": 4,
 "nbformat_minor": 4
}
